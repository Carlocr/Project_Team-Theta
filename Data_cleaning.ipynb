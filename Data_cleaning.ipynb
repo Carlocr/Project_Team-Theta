{
 "metadata": {
  "language_info": {
   "codemirror_mode": {
    "name": "ipython",
    "version": 3
   },
   "file_extension": ".py",
   "mimetype": "text/x-python",
   "name": "python",
   "nbconvert_exporter": "python",
   "pygments_lexer": "ipython3",
   "version": 3
  },
  "orig_nbformat": 2
 },
 "nbformat": 4,
 "nbformat_minor": 2,
 "cells": [
  {
   "cell_type": "code",
   "execution_count": null,
   "metadata": {},
   "outputs": [],
   "source": [
    "# Import all the  libraries\n",
    "import numpy as np\n",
    "import pandas as pd\n",
    "from datetime import datetime as dt\n",
    "import itertools\n",
    "\n",
    "%matplotlib inline"
   ]
  },
  {
   "cell_type": "code",
   "execution_count": null,
   "metadata": {},
   "outputs": [],
   "source": [
    "# Read data from the CSV into a dataframe\n",
    "\n",
    "loc = 'C:/Users/Utente/Desktop/Project-lab-team-Theta-/Data/'\n",
    "\n",
    "raw_data_1 = pd.read_csv(loc + '2000-01.csv')\n",
    "raw_data_2 = pd.read_csv(loc + '2001-02.csv')\n",
    "raw_data_3 = pd.read_csv(loc + '2002-03.csv')\n",
    "raw_data_4 = pd.read_csv(loc + '2003-04.csv')\n",
    "raw_data_5 = pd.read_csv(loc + '2004-05.csv')\n",
    "raw_data_6 = pd.read_csv(loc + '2005-06.csv')\n",
    "raw_data_7 = pd.read_csv(loc + '2006-07.csv')\n",
    "raw_data_8 = pd.read_csv(loc + '2007-08.csv')\n",
    "raw_data_9 = pd.read_csv(loc + '2008-09.csv')\n",
    "raw_data_10 = pd.read_csv(loc + '2009-10.csv')\n",
    "raw_data_11 = pd.read_csv(loc + '2010-11.csv')\n",
    "raw_data_12 = pd.read_csv(loc + '2011-12.csv')\n",
    "raw_data_13 = pd.read_csv(loc + '2012-13.csv')\n",
    "raw_data_14 = pd.read_csv(loc + '2013-14.csv')\n",
    "raw_data_15 = pd.read_csv(loc + '2014-15.csv')\n",
    "raw_data_16 = pd.read_csv(loc + '2015-16.csv')"
   ]
  },
  {
   "cell_type": "code",
   "execution_count": null,
   "metadata": {},
   "outputs": [],
   "source": [
    "# Parse data as time \n",
    "\n",
    "def parse_date(date):\n",
    "    if date == '':\n",
    "        return None\n",
    "    else:\n",
    "        return dt.strptime(date, '%d/%m/%y').date()\n",
    "    \n",
    "\n",
    "def parse_date_other(date):\n",
    "    if date == '':\n",
    "        return None\n",
    "    else:\n",
    "        return dt.strptime(date, '%d/%m/%Y').date()\n",
    "\n",
    "raw_data_1.Date = raw_data_1.Date.apply(parse_date)    \n",
    "raw_data_2.Date = raw_data_2.Date.apply(parse_date)    \n",
    "raw_data_3.Date = raw_data_3.Date.apply(parse_date_other)         # The date format for this dataset is different  \n",
    "raw_data_4.Date = raw_data_4.Date.apply(parse_date)    \n",
    "raw_data_5.Date = raw_data_5.Date.apply(parse_date)    \n",
    "raw_data_6.Date = raw_data_6.Date.apply(parse_date)    \n",
    "raw_data_7.Date = raw_data_7.Date.apply(parse_date)    \n",
    "raw_data_8.Date = raw_data_8.Date.apply(parse_date)    \n",
    "raw_data_9.Date = raw_data_9.Date.apply(parse_date)    \n",
    "raw_data_10.Date = raw_data_10.Date.apply(parse_date)\n",
    "raw_data_11.Date = raw_data_11.Date.apply(parse_date)\n",
    "raw_data_12.Date = raw_data_12.Date.apply(parse_date)\n",
    "raw_data_13.Date = raw_data_13.Date.apply(parse_date)\n",
    "raw_data_14.Date = raw_data_14.Date.apply(parse_date)\n",
    "raw_data_15.Date = raw_data_15.Date.apply(parse_date)\n",
    "raw_data_16.Date = raw_data_16.Date.apply(parse_date)"
   ]
  },
  {
   "cell_type": "code",
   "execution_count": null,
   "metadata": {},
   "outputs": [],
   "source": [
    "#Gets all the statistics related to gameplay\n",
    "                      \n",
    "columns_req = ['Date','HomeTeam','AwayTeam','FTHG','FTAG','FTR']\n",
    "\n",
    "playing_statistics_1 = raw_data_1[columns_req]                      \n",
    "playing_statistics_2 = raw_data_2[columns_req]\n",
    "playing_statistics_3 = raw_data_3[columns_req]\n",
    "playing_statistics_4 = raw_data_4[columns_req]\n",
    "playing_statistics_5 = raw_data_5[columns_req]\n",
    "playing_statistics_6 = raw_data_6[columns_req]\n",
    "playing_statistics_7 = raw_data_7[columns_req]\n",
    "playing_statistics_8 = raw_data_8[columns_req]\n",
    "playing_statistics_9 = raw_data_9[columns_req]\n",
    "playing_statistics_10 = raw_data_10[columns_req]\n",
    "playing_statistics_11 = raw_data_11[columns_req]   \n",
    "playing_statistics_12 = raw_data_12[columns_req]\n",
    "playing_statistics_13 = raw_data_13[columns_req]\n",
    "playing_statistics_14 = raw_data_14[columns_req]\n",
    "playing_statistics_15 = raw_data_15[columns_req]\n",
    "playing_statistics_16 = raw_data_16[columns_req]"
   ]
  }
 ]
}